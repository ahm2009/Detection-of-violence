{
  "cells": [
    {
      "cell_type": "code",
      "execution_count": null,
      "metadata": {
        "id": "iQSfQCCDpL_s"
      },
      "outputs": [],
      "source": [
        "pip install ultralytics opencv-python torch"
      ]
    },
    {
      "cell_type": "markdown",
      "metadata": {
        "id": "Y8bEHlCMNe72"
      },
      "source": [
        "# gun detection"
      ]
    },
    {
      "cell_type": "code",
      "execution_count": 13,
      "metadata": {
        "id": "6GrD5STd-ThR"
      },
      "outputs": [],
      "source": [
        "import cv2\n",
        "from google.colab.patches import cv2_imshow\n",
        "# ! pip install inference_sdk\n",
        "from inference_sdk import InferenceHTTPClient\n",
        "\n",
        "image_path = '/content/drive/MyDrive/Detection-of-violence/images/gun/11.jpeg'\n",
        "image = cv2.imread(image_path)\n",
        "\n",
        "def gun_detection(image , image_path):\n",
        "  check_gun = True\n",
        "  list_of_gun =[]\n",
        "  confidence = []\n",
        "\n",
        "\n",
        "  CLIENT = InferenceHTTPClient(\n",
        "      api_url=\"https://detect.roboflow.com\",\n",
        "      api_key=\"mmAlw6mbmqi39y5wLaQs\"\n",
        "  )\n",
        "\n",
        "  result = CLIENT.infer(image_path, model_id=\"e_commerce_gun_detection/5\")\n",
        "\n",
        "  if len(result[\"predictions\"])==0:\n",
        "\n",
        "    check_gun = False\n",
        "    return [0 , False , 0 , 'Gun detection']\n",
        "  else:\n",
        "    for gun in result[\"predictions\"]:\n",
        "      if gun[\"confidence\"]<0.5:\n",
        "        gun['check'] = False\n",
        "      else:\n",
        "        gun['check'] = True\n",
        "\n",
        "\n",
        "  if check_gun == True:\n",
        "    for rec in result[\"predictions\"]:\n",
        "      if rec['check'] == True:\n",
        "        x,y = (int(rec[\"x\"]) - int(rec[\"width\"])//2 , int(rec[\"y\"])-int(rec[\"height\"])//2)\n",
        "        width , hieght = (int(rec[\"width\"])+x, int(rec[\"height\"])+y)\n",
        "        confidence.append((rec[\"confidence\"]*100))\n",
        "        list_of_gun.append((x,y,width , hieght))\n",
        "        # cv2.rectangle(image, (x,y), (width, hieght), (0, 255, 0), 6)\n",
        "        # cv2.putText(image, f'{(rec[\"confidence\"]*100):.2f}', (int(rec['x']), y+6), cv2.FONT_HERSHEY_SIMPLEX, 0.6, (0, 0, 200), 2)\n",
        "    if len(list_of_gun)>0:\n",
        "      return [list_of_gun , True , confidence , 'Gun detection']\n",
        "    else:\n",
        "      return [0 , False , 0 , 'Gun detection']\n",
        "\n",
        "# print(gun_detection(image , image_path))\n",
        "# cv2_imshow(image)\n",
        "# cv2.waitKey(0)\n",
        "# cv2.destroyAllWindows()"
      ]
    },
    {
      "cell_type": "markdown",
      "metadata": {
        "id": "KbLTECUsN7-p"
      },
      "source": [
        "\n",
        "\n",
        "\n",
        "\n",
        "# knife detection"
      ]
    },
    {
      "cell_type": "code",
      "execution_count": 14,
      "metadata": {
        "id": "BHovNI2e4Gob"
      },
      "outputs": [],
      "source": [
        "import cv2\n",
        "from google.colab.patches import cv2_imshow\n",
        "# ! pip install inference_sdk\n",
        "from inference_sdk import InferenceHTTPClient\n",
        "\n",
        "image_path = '/content/drive/MyDrive/Detection-of-violence/images/knife/14.jpg'\n",
        "image = cv2.imread(image_path)\n",
        "def kinfe_detetction(image , image_path):\n",
        "  check_gun = True\n",
        "  list_of_kinfe =[]\n",
        "  confidence = []\n",
        "\n",
        "\n",
        "  from inference_sdk import InferenceHTTPClient\n",
        "\n",
        "  CLIENT = InferenceHTTPClient(\n",
        "      api_url=\"https://detect.roboflow.com\",\n",
        "      api_key=\"mmAlw6mbmqi39y5wLaQs\"\n",
        "  )\n",
        "\n",
        "  result = CLIENT.infer(image_path, model_id=\"knife-epqzp-0rybq/1\")\n",
        "\n",
        "\n",
        "  if len(result[\"predictions\"])==0:\n",
        "    check_gun = False\n",
        "    return [0 , False , 0 , 'Knife detection']\n",
        "  else:\n",
        "    for gun in result[\"predictions\"]:\n",
        "      if gun[\"confidence\"]<0.5:\n",
        "        gun['check'] = False\n",
        "      else:\n",
        "        gun['check'] = True\n",
        "\n",
        "\n",
        "  if check_gun == True:\n",
        "    for rec in result[\"predictions\"]:\n",
        "      if rec['check'] == True:\n",
        "        x,y = (int(rec[\"x\"]) - int(rec[\"width\"])//2 , int(rec[\"y\"])-int(rec[\"height\"])//2)\n",
        "        width , hieght = (int(rec[\"width\"])+x, int(rec[\"height\"])+y)\n",
        "        confidence.append((rec[\"confidence\"]*100))\n",
        "        list_of_kinfe.append((x,y,width , hieght))\n",
        "        # cv2.rectangle(image, (x,y), (width, hieght), (0, 255, 0), 6)\n",
        "        # cv2.putText(image, f'{(rec[\"confidence\"]*100):.2f}', (int(rec['x']), y+6), cv2.FONT_HERSHEY_SIMPLEX, 0.6, (0, 0, 200), 2)\n",
        "    if len(list_of_kinfe)>0:\n",
        "      return [list_of_kinfe , True , confidence , 'Kinfe detection']\n",
        "    else:\n",
        "      return [0 , False , 0 , 'Kinfe detection']\n",
        "# kinfe_detetction(image , image_path)\n",
        "# cv2_imshow(image)\n",
        "# cv2.waitKey(0)\n",
        "# cv2.destroyAllWindows()"
      ]
    },
    {
      "cell_type": "markdown",
      "source": [
        "# blood detection"
      ],
      "metadata": {
        "id": "J3UoZk9Gf7Hd"
      }
    },
    {
      "cell_type": "code",
      "execution_count": 43,
      "metadata": {
        "id": "xSCSbaBKM1o-"
      },
      "outputs": [],
      "source": [
        "import cv2\n",
        "import numpy as np\n",
        "from google.colab.patches import cv2_imshow\n",
        "\n",
        "def detect_blood(frame):\n",
        "    list_of_blood = []\n",
        "    # Convert the frame to HSV color space\n",
        "    frame= cv2.imread(frame)\n",
        "    hsv = cv2.cvtColor(frame, cv2.COLOR_BGR2HSV)\n",
        "    check = False\n",
        "    # Define the lower and upper bounds for the color red (blood-like color)\n",
        "    lower_red1 = np.array([0, 100, 100])\n",
        "    upper_red1 = np.array([10, 255, 255])\n",
        "    lower_red2 = np.array([160, 100, 100])\n",
        "    upper_red2 = np.array([180, 255, 255])\n",
        "\n",
        "    # Create masks to detect red regions in the frame\n",
        "    mask1 = cv2.inRange(hsv, lower_red1, upper_red1)\n",
        "    mask2 = cv2.inRange(hsv, lower_red2, upper_red2)\n",
        "    blood_mask = cv2.bitwise_or(mask1, mask2)\n",
        "\n",
        "    # Apply some morphological operations to reduce noise\n",
        "    kernel = cv2.getStructuringElement(cv2.MORPH_ELLIPSE, (5, 5))\n",
        "    blood_mask = cv2.morphologyEx(blood_mask, cv2.MORPH_OPEN, kernel)\n",
        "    blood_mask = cv2.morphologyEx(blood_mask, cv2.MORPH_CLOSE, kernel)\n",
        "\n",
        "    # Find contours of the detected blood regions\n",
        "    contours, _ = cv2.findContours(blood_mask, cv2.RETR_EXTERNAL, cv2.CHAIN_APPROX_SIMPLE)\n",
        "\n",
        "\n",
        "    for contour in contours:\n",
        "        area = cv2.contourArea(contour)\n",
        "\n",
        "        if area > 500:  # Filter out small areas\n",
        "            check = True\n",
        "            x, y, w, h = cv2.boundingRect(contour)\n",
        "            list_of_blood.append((x,y ,x + w , y + h))\n",
        "            cv2.rectangle(frame, (x, y), (x + w, y + h), (0, 0, 255), 2)\n",
        "            cv2.putText(frame, \"Blood Detected\", (x, y - 10), cv2.FONT_HERSHEY_SIMPLEX, 0.9, (0, 0, 255), 2)\n",
        "    if len(list_of_blood)>0:\n",
        "      return [list_of_blood , True , ['blood'] , \"Blood detection\"]\n",
        "    else:\n",
        "      return [0 , False , ['blood'] , \"Blood detection\"]\n",
        "\n",
        "# print(detect_blood('/content/drive/MyDrive/Detection-of-violence/images/blood/1.jpg'))\n",
        "\n",
        "# image , check = detect_blood('/content/drive/MyDrive/Detection-of-violence/images/blood/1.jpg')\n",
        "# cv2_imshow(image)\n",
        "# print(check)\n",
        "\n",
        "# cv2.waitKey(0)\n",
        "# cv2.destroyAllWindows()\n"
      ]
    },
    {
      "cell_type": "markdown",
      "source": [
        "## **test all of the model together**"
      ],
      "metadata": {
        "id": "Z0MvrvxMgEba"
      }
    },
    {
      "cell_type": "code",
      "execution_count": null,
      "metadata": {
        "id": "pL4MTeCexRop"
      },
      "outputs": [],
      "source": [
        "import cv2\n",
        "import os\n",
        "import numpy as np\n",
        "from google.colab.patches import cv2_imshow\n",
        "# ! pip install inference_sdk\n",
        "from inference_sdk import InferenceHTTPClient\n",
        "file_list = os.listdir('/content/drive/MyDrive/Detection-of-violence/images/random')\n",
        "print(file_list)\n",
        "\n",
        "# image_path = '/content/drive/MyDrive/Detection-of-violence/images/random/12.jpeg'\n",
        "# image = cv2.imread(image_path)\n",
        "def all_image(image , image_path):\n",
        "  list_model=[]\n",
        "  list_model.append(detect_blood(image_path))\n",
        "  list_model.append(kinfe_detetction(image , image_path))\n",
        "  list_model.append(gun_detection(image , image_path))\n",
        "  blood = False\n",
        "  knife = False\n",
        "  gun = False\n",
        "  confidence_gun = 0\n",
        "  confidence_kinfe = 0\n",
        "\n",
        "\n",
        "  if list_model[0][1] == True:\n",
        "    blood = True\n",
        "  if list_model[1][1] == True:\n",
        "    for conf in list_model[1][2]:\n",
        "      confidence_kinfe += conf\n",
        "    knife = confidence_kinfe/len(list_model[1][2])\n",
        "  if list_model[2][1] == True:\n",
        "    for conf in list_model[2][2]:\n",
        "      confidence_gun += conf\n",
        "    gun = confidence_gun/len(list_model[2][2])\n",
        "\n",
        "  image = cv2.resize(image , (550 , 400))\n",
        "  cv2_imshow(image)\n",
        "\n",
        "  print(f'blood = {blood}  , gun = {gun}  ,   kinfe = {knife}')\n",
        "  print()\n",
        "  print('*****************************')\n",
        "  print('*****************************')\n",
        "  print()\n",
        "\n",
        "for file_name in file_list :\n",
        "  if file_name != '.ipynb_checkpoints':\n",
        "    file_name = f'/content/drive/MyDrive/Detection-of-violence/images/random/{file_name}'\n",
        "    image = cv2.imread(file_name)\n",
        "    all_image( image , file_name)"
      ]
    }
  ],
  "metadata": {
    "colab": {
      "provenance": []
    },
    "kernelspec": {
      "display_name": "Python 3",
      "name": "python3"
    },
    "language_info": {
      "name": "python"
    }
  },
  "nbformat": 4,
  "nbformat_minor": 0
}